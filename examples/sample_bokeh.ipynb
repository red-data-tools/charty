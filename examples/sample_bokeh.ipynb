{
 "cells": [
  {
   "cell_type": "code",
   "execution_count": 43,
   "metadata": {
    "scrolled": false
   },
   "outputs": [
    {
     "data": {
      "text/plain": [
       "#<Charty::Plotter:0x000055fbc356dcf8 @plotter_adapter=#<Charty::Bokeh:0x000055fbc356dbb8 @plot=<module 'bokeh.plotting' from '/opt/conda/lib/python3.7/site-packages/bokeh/plotting/__init__.py'>>>"
      ]
     },
     "execution_count": 43,
     "metadata": {},
     "output_type": "execute_result"
    }
   ],
   "source": [
    "require 'charty'\n",
    "\n",
    "charty = Charty::Plotter.new(:bokeh)"
   ]
  },
  {
   "cell_type": "code",
   "execution_count": 44,
   "metadata": {},
   "outputs": [],
   "source": [
    "curve = charty.curve do\n",
    "  function {|x| Math.sin(x) }\n",
    "  range x: 0..10, y: -1..1\n",
    "  xlabel 'foo'\n",
    "  ylabel 'bar'\n",
    "end\n",
    "curve.render(\"sample_images/curve_with_function_bokeh.html\")"
   ]
  },
  {
   "cell_type": "code",
   "execution_count": 45,
   "metadata": {},
   "outputs": [],
   "source": [
    "curve2 = charty.curve do\n",
    "  series [0,1,2,3,4], [10,40,20,90,70]\n",
    "  series [0,1,2,3,4], [90,80,70,60,50]\n",
    "  series [0,1,2,3,4,5,6,7,8], [50,60,20,30,10, 90, 0, 100, 50]\n",
    "  range x: 0..10, y: 1..100\n",
    "  xlabel 'foo'\n",
    "  ylabel 'bar'\n",
    "end\n",
    "curve2.render(\"sample_images/curve_bokeh.html\")"
   ]
  },
  {
   "cell_type": "code",
   "execution_count": 46,
   "metadata": {},
   "outputs": [],
   "source": [
    "bar = charty.bar do\n",
    "  series [0,1,2,3,4], [10,40,20,90,70]\n",
    "  series [0,1,2,3,4], [90,80,70,60,50]\n",
    "  series [0,1,2,3,4,5,6,7,8], [50,60,20,30,10, 90, 0, 100, 50]\n",
    "  range x: 0..10, y: 1..100\n",
    "  xlabel 'foo'\n",
    "  ylabel 'bar'\n",
    "  title 'bar plot'\n",
    "end\n",
    "bar.render(\"sample_images/bar_bokeh.html\")"
   ]
  },
  {
   "cell_type": "code",
   "execution_count": 47,
   "metadata": {},
   "outputs": [],
   "source": [
    "barh = charty.barh do\n",
    "  series [0,1,2,3,4], [10,40,20,90,70]\n",
    "  series [0,1,2,3,4], [90,80,70,60,50]\n",
    "  series [0,1,2,3,4,5,6,7,8], [50,60,20,30,10, 90, 0, 100, 50]\n",
    "  range x: 0..10, y: 1..100\n",
    "  xlabel 'foo'\n",
    "  ylabel 'bar'\n",
    "  title 'bar plot'\n",
    "end\n",
    "barh.render(\"sample_images/barh_bokeh.html\")"
   ]
  },
  {
   "cell_type": "code",
   "execution_count": 48,
   "metadata": {},
   "outputs": [],
   "source": [
    "box_plot = charty.box_plot do\n",
    "  data [[60,70,80,70,50], [100,40,20,80,70], [30, 10]]\n",
    "  range x: 0..10, y: 1..100\n",
    "  xlabel 'foo'\n",
    "  ylabel 'bar'\n",
    "  title 'box plot'\n",
    "end\n",
    "box_plot.render(\"sample_images/box_plot_bokeh.html\")"
   ]
  },
  {
   "cell_type": "code",
   "execution_count": 49,
   "metadata": {},
   "outputs": [],
   "source": [
    "scatter = charty.scatter do\n",
    "  series 0..10, (0..1).step(0.1), label: 'sample1'\n",
    "  series 0..5, (0..1).step(0.2), label: 'sample2'\n",
    "  series [0, 1, 2, 3, 4], [0, -0.1, -0.5, -0.5, 0.1]\n",
    "  range x: 0..10, y: -1..1\n",
    "  # xlabel 'x label'\n",
    "  # xlabel ''\n",
    "  ylabel 'y label'\n",
    "  title 'scatter sample'\n",
    "end\n",
    "scatter.render(\"sample_images/scatter_bokeh.html\")"
   ]
  }
 ],
 "metadata": {
  "kernelspec": {
   "display_name": "Ruby 2.6.2",
   "language": "ruby",
   "name": "ruby"
  },
  "language_info": {
   "file_extension": ".rb",
   "mimetype": "application/x-ruby",
   "name": "ruby",
   "version": "2.6.2"
  },
  "toc": {
   "nav_menu": {},
   "number_sections": true,
   "sideBar": true,
   "skip_h1_title": false,
   "toc_cell": false,
   "toc_position": {},
   "toc_section_display": "block",
   "toc_window_display": false
  }
 },
 "nbformat": 4,
 "nbformat_minor": 2
}
